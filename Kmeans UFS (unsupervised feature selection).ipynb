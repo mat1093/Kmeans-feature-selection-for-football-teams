{
 "cells": [
  {
   "cell_type": "code",
   "execution_count": 1,
   "metadata": {},
   "outputs": [
    {
     "name": "stdout",
     "output_type": "stream",
     "text": [
      "    possession  goals  assists  pens_made  pens_att  cards_yellow  \\\n",
      "0         47.4     13        6          0         2            18   \n",
      "1         47.2     13       10          2         2            25   \n",
      "2         46.2     13        7          1         1            20   \n",
      "3         55.8     12        9          3         3            28   \n",
      "4         38.7     10        9          0         0            26   \n",
      "5         58.4     26       17          2         2            12   \n",
      "6         51.4     15        9          2         2            19   \n",
      "7         41.4     16       13          3         3            20   \n",
      "8         58.4     11        7          1         1            24   \n",
      "9         51.8     16       12          0         0            14   \n",
      "10        62.1     31       25          1         1            12   \n",
      "11        64.5     20       14          0         0            18   \n",
      "12        53.5     19       17          0         1            25   \n",
      "13        38.0     11       10          0         0            32   \n",
      "14        43.5      5        2          2         2            22   \n",
      "15        50.0      9        5          2         2            20   \n",
      "16        51.7      8        6          1         1            23   \n",
      "17        41.4     12       10          0         0            26   \n",
      "18        49.5     21       18          0         2            15   \n",
      "19        50.2     10        6          0         0            20   \n",
      "\n",
      "    goals_per90  assists_per90  goals_assists_per90  goals_pens_per90  ...  \\\n",
      "0          1.18           0.55                 1.73              1.18  ...   \n",
      "1          1.18           0.91                 2.09              1.00  ...   \n",
      "2          1.18           0.64                 1.82              1.09  ...   \n",
      "3          1.09           0.82                 1.91              0.82  ...   \n",
      "4          0.91           0.82                 1.73              0.91  ...   \n",
      "5          2.36           1.55                 3.91              2.18  ...   \n",
      "6          1.36           0.82                 2.18              1.18  ...   \n",
      "7          1.45           1.18                 2.64              1.18  ...   \n",
      "8          1.00           0.64                 1.64              0.91  ...   \n",
      "9          1.45           1.09                 2.55              1.45  ...   \n",
      "10         2.82           2.27                 5.09              2.73  ...   \n",
      "11         1.82           1.27                 3.09              1.82  ...   \n",
      "12         1.73           1.55                 3.27              1.73  ...   \n",
      "13         1.00           0.91                 1.91              1.00  ...   \n",
      "14         0.45           0.18                 0.64              0.27  ...   \n",
      "15         0.82           0.45                 1.27              0.64  ...   \n",
      "16         0.73           0.55                 1.27              0.64  ...   \n",
      "17         1.09           0.91                 2.00              1.09  ...   \n",
      "18         1.91           1.64                 3.55              1.91  ...   \n",
      "19         0.91           0.55                 1.45              0.91  ...   \n",
      "\n",
      "    dispossessed  fouls  fouled  offsides  pens_won  own_goals  \\\n",
      "0            103    100     100        21         2          0   \n",
      "1            109    118     146        16         1          1   \n",
      "2            111    120     111        22         1          0   \n",
      "3            129    108      85        16         2          0   \n",
      "4             96    103      82        33         0          0   \n",
      "5            124    112     118        19         1          0   \n",
      "6            174    123     119        21         1          0   \n",
      "7            112    102      99        11         3          1   \n",
      "8            140    128     115        14         1          1   \n",
      "9            116     83     117        20         0          1   \n",
      "10           113    107      84        17         0          1   \n",
      "11           123    104      94        25         0          0   \n",
      "12           124    117      92        27         0          2   \n",
      "13           134    107     112        19         0          0   \n",
      "14           130    100     145        11         2          2   \n",
      "15           132    124     119         5         2          0   \n",
      "16           146    106     135        16         1          1   \n",
      "17           127    154     104        17         0          1   \n",
      "18           114     98      75        16         1          0   \n",
      "19           136    126     101        23         0          0   \n",
      "\n",
      "    ball_recoveries  aerials_won  aerials_lost  aerials_won_pct  \n",
      "0               855          178           193             48.0  \n",
      "1               904          208           213             49.4  \n",
      "2              1034          259           244             51.5  \n",
      "3               886          158           166             48.8  \n",
      "4              1008          284           255             52.7  \n",
      "5               854          190           164             53.7  \n",
      "6               942          211           169             55.5  \n",
      "7               934          191           223             46.1  \n",
      "8               946          159           182             46.6  \n",
      "9               842          174           170             50.6  \n",
      "10             1016          162           152             51.6  \n",
      "11              842          143           130             52.4  \n",
      "12              848          157           122             56.3  \n",
      "13              791          181           168             51.9  \n",
      "14              850          167           207             44.7  \n",
      "15              995          177           257             40.8  \n",
      "16              818          177           183             49.2  \n",
      "17              873          210           197             51.6  \n",
      "18              932          205           206             49.9  \n",
      "19              873          161           151             51.6  \n",
      "\n",
      "[20 rows x 174 columns]\n"
     ]
    }
   ],
   "source": [
    "from sklearn.decomposition import PCA\n",
    "from sklearn.cluster import KMeans\n",
    "from collections import defaultdict\n",
    "from sklearn.metrics.pairwise import euclidean_distances\n",
    "from sklearn.preprocessing import StandardScaler\n",
    "import pandas as pd\n",
    "import numpy as np\n",
    "from sklearn.metrics import silhouette_score\n",
    "from sklearn.cluster import KMeans\n",
    "from yellowbrick.cluster import SilhouetteVisualizer\n",
    "import matplotlib.pyplot as plt\n",
    "%matplotlib inline\n",
    "\n",
    "df=pd.read_excel('Premier_league_teams.xls')\n",
    "team=df['squad']\n",
    "df.drop('squad',axis=1,inplace=True)\n",
    "print(df)\n",
    "class PFA(object):\n",
    "    def __init__(self, n_features, q=None):\n",
    "        self.q = q\n",
    "        self.n_features = n_features\n",
    "\n",
    "    def fit(self, X):\n",
    "        if not self.q:\n",
    "            self.q = 4\n",
    "\n",
    "        sc = StandardScaler()\n",
    "        X = sc.fit_transform(X)\n",
    "\n",
    "        pca = PCA(n_components=self.q).fit(X) # calculation Cov matrix is embeded in PCA\n",
    "        A_q = pca.components_.T\n",
    "\n",
    "        kmeans = KMeans(n_clusters=self.n_features).fit(A_q)\n",
    "        clusters = kmeans.predict(A_q)\n",
    "        cluster_centers = kmeans.cluster_centers_\n",
    "\n",
    "        dists = defaultdict(list)\n",
    "        for i, c in enumerate(clusters):\n",
    "            dist = euclidean_distances([A_q[i, :]], [cluster_centers[c, :]])[0][0]\n",
    "            dists[c].append((i, dist))\n",
    "\n",
    "        self.indices_ = [sorted(f, key=lambda x: x[1])[0][0] for f in dists.values()]\n",
    "        self.features_ = X[:, self.indices_]\n",
    "        \n",
    "### Above part of code thanks to  https://bechirtr97.medium.com/feature-selection-in-unsupervised-learning-problems-585a56d024bd"
   ]
  },
  {
   "cell_type": "code",
   "execution_count": 24,
   "metadata": {},
   "outputs": [],
   "source": [
    "corr=df.corr()\n",
    "columns = np.full((corr.shape[0],), True, dtype=bool)\n",
    "for i in range(corr.shape[0]):\n",
    "    for j in range(i+1, corr.shape[0]):\n",
    "        if corr.iloc[i,j] >= 0.9:\n",
    "            if columns[j]:\n",
    "                columns[j] = False\n",
    "selected_columns = df.columns[columns]\n",
    "df = df[selected_columns]       "
   ]
  },
  {
   "cell_type": "code",
   "execution_count": 16,
   "metadata": {},
   "outputs": [
    {
     "data": {
      "text/plain": [
       "(20, 186)"
      ]
     },
     "execution_count": 16,
     "metadata": {},
     "output_type": "execute_result"
    }
   ],
   "source": [
    "df.shape"
   ]
  },
  {
   "cell_type": "code",
   "execution_count": 2,
   "metadata": {},
   "outputs": [],
   "source": [
    "# Usage\n",
    "pfa = PFA(n_features=8)\n",
    "pfa.fit(df)\n",
    "# To get the transformed matrix\n",
    "x = pfa.features_\n",
    "#print(x)\n",
    "# To get the column indices of the kept features\n",
    "column_indices = pfa.indices_"
   ]
  },
  {
   "cell_type": "code",
   "execution_count": 3,
   "metadata": {},
   "outputs": [
    {
     "data": {
      "text/plain": [
       "[156, 113, 111, 22, 51, 116, 171, 123]"
      ]
     },
     "execution_count": 3,
     "metadata": {},
     "output_type": "execute_result"
    }
   ],
   "source": [
    "column_indices"
   ]
  },
  {
   "cell_type": "code",
   "execution_count": 4,
   "metadata": {},
   "outputs": [],
   "source": [
    "df=df.iloc[:,[156, 113, 111, 22, 51, 116, 171, 123]]"
   ]
  },
  {
   "cell_type": "code",
   "execution_count": null,
   "metadata": {},
   "outputs": [],
   "source": [
    "[156, 113, 111, 22, 51, 116, 171, 123]"
   ]
  },
  {
   "cell_type": "code",
   "execution_count": 5,
   "metadata": {},
   "outputs": [
    {
     "data": {
      "text/html": [
       "<div>\n",
       "<style scoped>\n",
       "    .dataframe tbody tr th:only-of-type {\n",
       "        vertical-align: middle;\n",
       "    }\n",
       "\n",
       "    .dataframe tbody tr th {\n",
       "        vertical-align: top;\n",
       "    }\n",
       "\n",
       "    .dataframe thead th {\n",
       "        text-align: right;\n",
       "    }\n",
       "</style>\n",
       "<table border=\"1\" class=\"dataframe\">\n",
       "  <thead>\n",
       "    <tr style=\"text-align: right;\">\n",
       "      <th></th>\n",
       "      <th>carry_progressive_distance</th>\n",
       "      <th>gca_per90</th>\n",
       "      <th>sca_fouled</th>\n",
       "      <th>saves</th>\n",
       "      <th>shots_total</th>\n",
       "      <th>gca_dribbles</th>\n",
       "      <th>aerials_won</th>\n",
       "      <th>tackles_mid_3rd</th>\n",
       "    </tr>\n",
       "  </thead>\n",
       "  <tbody>\n",
       "    <tr>\n",
       "      <th>0</th>\n",
       "      <td>12443</td>\n",
       "      <td>1.55</td>\n",
       "      <td>14</td>\n",
       "      <td>30</td>\n",
       "      <td>155</td>\n",
       "      <td>0</td>\n",
       "      <td>178</td>\n",
       "      <td>58</td>\n",
       "    </tr>\n",
       "    <tr>\n",
       "      <th>1</th>\n",
       "      <td>8534</td>\n",
       "      <td>2.09</td>\n",
       "      <td>13</td>\n",
       "      <td>30</td>\n",
       "      <td>127</td>\n",
       "      <td>3</td>\n",
       "      <td>208</td>\n",
       "      <td>68</td>\n",
       "    </tr>\n",
       "    <tr>\n",
       "      <th>2</th>\n",
       "      <td>8518</td>\n",
       "      <td>1.45</td>\n",
       "      <td>9</td>\n",
       "      <td>25</td>\n",
       "      <td>134</td>\n",
       "      <td>0</td>\n",
       "      <td>259</td>\n",
       "      <td>86</td>\n",
       "    </tr>\n",
       "    <tr>\n",
       "      <th>3</th>\n",
       "      <td>11834</td>\n",
       "      <td>1.82</td>\n",
       "      <td>12</td>\n",
       "      <td>26</td>\n",
       "      <td>128</td>\n",
       "      <td>1</td>\n",
       "      <td>158</td>\n",
       "      <td>81</td>\n",
       "    </tr>\n",
       "    <tr>\n",
       "      <th>4</th>\n",
       "      <td>6339</td>\n",
       "      <td>1.45</td>\n",
       "      <td>9</td>\n",
       "      <td>31</td>\n",
       "      <td>123</td>\n",
       "      <td>0</td>\n",
       "      <td>284</td>\n",
       "      <td>71</td>\n",
       "    </tr>\n",
       "  </tbody>\n",
       "</table>\n",
       "</div>"
      ],
      "text/plain": [
       "   carry_progressive_distance  gca_per90  sca_fouled  saves  shots_total  \\\n",
       "0                       12443       1.55          14     30          155   \n",
       "1                        8534       2.09          13     30          127   \n",
       "2                        8518       1.45           9     25          134   \n",
       "3                       11834       1.82          12     26          128   \n",
       "4                        6339       1.45           9     31          123   \n",
       "\n",
       "   gca_dribbles  aerials_won  tackles_mid_3rd  \n",
       "0             0          178               58  \n",
       "1             3          208               68  \n",
       "2             0          259               86  \n",
       "3             1          158               81  \n",
       "4             0          284               71  "
      ]
     },
     "execution_count": 5,
     "metadata": {},
     "output_type": "execute_result"
    }
   ],
   "source": [
    "df.head()"
   ]
  },
  {
   "cell_type": "code",
   "execution_count": 6,
   "metadata": {},
   "outputs": [
    {
     "name": "stdout",
     "output_type": "stream",
     "text": [
      "For n_clusters 2 The Silhouette_score is : 0.5296335757423878\n",
      "For n_clusters 3 The Silhouette_score is : 0.6142200294412018\n",
      "For n_clusters 4 The Silhouette_score is : 0.6469005030692575\n",
      "For n_clusters 5 The Silhouette_score is : 0.639432584023485\n",
      "For n_clusters 6 The Silhouette_score is : 0.5875956253018895\n",
      "For n_clusters 7 The Silhouette_score is : 0.5944508910853716\n",
      "For n_clusters 8 The Silhouette_score is : 0.6221887549217147\n"
     ]
    },
    {
     "data": {
      "image/png": "[encoded data removed]",
      "text/plain": [
       "<Figure size 1080x1296 with 8 Axes>"
      ]
     },
     "metadata": {
      "needs_background": "light"
     },
     "output_type": "display_data"
    }
   ],
   "source": [
    "fig, ax =plt.subplots(4,2, figsize=(15,18))\n",
    "for i in [2,3,4,5,6,7,8]:\n",
    "    \n",
    "    km=KMeans(n_clusters=i, init='k-means++', n_init=10, max_iter=100, random_state=42)\n",
    "    predicted_values=km.fit_predict(df)\n",
    "    q, mod=divmod(i,2)\n",
    "    a=0\n",
    "    visualizer = SilhouetteVisualizer(km, colors='yellowbrick', ax=ax[q-1][mod])\n",
    "    a=a+1\n",
    "    visualizer.fit(df)\n",
    "    silhouette_value=silhouette_score(df,predicted_values)\n",
    "    print(\"For n_clusters\",\n",
    "         i,\n",
    "         \"The Silhouette_score is :\",\n",
    "         silhouette_value,\n",
    "         )"
   ]
  },
  {
   "cell_type": "code",
   "execution_count": 7,
   "metadata": {},
   "outputs": [],
   "source": [
    "km=KMeans(n_clusters=4)"
   ]
  },
  {
   "cell_type": "code",
   "execution_count": 8,
   "metadata": {},
   "outputs": [
    {
     "data": {
      "text/plain": [
       "0.6469005030692575"
      ]
     },
     "execution_count": 8,
     "metadata": {},
     "output_type": "execute_result"
    }
   ],
   "source": [
    "km.fit(df)\n",
    "predicted_vales=km.fit_predict(df)\n",
    "silhouette_score(df,predicted_vales)\n"
   ]
  },
  {
   "cell_type": "code",
   "execution_count": 9,
   "metadata": {},
   "outputs": [],
   "source": [
    "labels=pd.DataFrame(predicted_vales)\n",
    "labels.rename(columns={0:'class'},inplace=True)"
   ]
  },
  {
   "cell_type": "code",
   "execution_count": 10,
   "metadata": {},
   "outputs": [],
   "source": [
    "labels.to_excel('labels.xls')"
   ]
  },
  {
   "cell_type": "code",
   "execution_count": 11,
   "metadata": {},
   "outputs": [
    {
     "data": {
      "text/plain": [
       "array([[8.59057143e+03, 1.66142857e+00, 1.04285714e+01, 3.05714286e+01,\n",
       "        1.24857143e+02, 1.00000000e+00, 2.14285714e+02, 7.05714286e+01],\n",
       "       [1.41345000e+04, 3.36500000e+00, 1.25000000e+01, 2.97500000e+01,\n",
       "        1.75500000e+02, 3.00000000e+00, 1.67000000e+02, 6.85000000e+01],\n",
       "       [1.81320000e+04, 2.45000000e+00, 8.00000000e+00, 1.30000000e+01,\n",
       "        1.96000000e+02, 1.00000000e+00, 1.43000000e+02, 7.00000000e+01],\n",
       "       [1.16838750e+04, 1.87500000e+00, 1.15000000e+01, 3.05000000e+01,\n",
       "        1.35000000e+02, 1.25000000e+00, 1.80125000e+02, 7.73750000e+01]])"
      ]
     },
     "execution_count": 11,
     "metadata": {},
     "output_type": "execute_result"
    }
   ],
   "source": [
    "km.cluster_centers_"
   ]
  },
  {
   "cell_type": "code",
   "execution_count": 12,
   "metadata": {},
   "outputs": [],
   "source": [
    "cluster=km.cluster_centers_"
   ]
  },
  {
   "cell_type": "code",
   "execution_count": 13,
   "metadata": {},
   "outputs": [],
   "source": [
    "cluster=pd.DataFrame(cluster,columns=df.columns)"
   ]
  },
  {
   "cell_type": "code",
   "execution_count": 44,
   "metadata": {},
   "outputs": [],
   "source": [
    "### TO DO: plot cluster centers to visualize differences between groups & characteristics of each group###"
   ]
  },
  {
   "cell_type": "code",
   "execution_count": 14,
   "metadata": {},
   "outputs": [
    {
     "data": {
      "text/html": [
       "<div>\n",
       "<style scoped>\n",
       "    .dataframe tbody tr th:only-of-type {\n",
       "        vertical-align: middle;\n",
       "    }\n",
       "\n",
       "    .dataframe tbody tr th {\n",
       "        vertical-align: top;\n",
       "    }\n",
       "\n",
       "    .dataframe thead th {\n",
       "        text-align: right;\n",
       "    }\n",
       "</style>\n",
       "<table border=\"1\" class=\"dataframe\">\n",
       "  <thead>\n",
       "    <tr style=\"text-align: right;\">\n",
       "      <th></th>\n",
       "      <th>carry_progressive_distance</th>\n",
       "      <th>gca_per90</th>\n",
       "      <th>sca_fouled</th>\n",
       "      <th>saves</th>\n",
       "      <th>shots_total</th>\n",
       "      <th>gca_dribbles</th>\n",
       "      <th>aerials_won</th>\n",
       "      <th>tackles_mid_3rd</th>\n",
       "    </tr>\n",
       "  </thead>\n",
       "  <tbody>\n",
       "    <tr>\n",
       "      <th>0</th>\n",
       "      <td>8590.571429</td>\n",
       "      <td>1.661429</td>\n",
       "      <td>10.428571</td>\n",
       "      <td>30.571429</td>\n",
       "      <td>124.857143</td>\n",
       "      <td>1.00</td>\n",
       "      <td>214.285714</td>\n",
       "      <td>70.571429</td>\n",
       "    </tr>\n",
       "    <tr>\n",
       "      <th>1</th>\n",
       "      <td>14134.500000</td>\n",
       "      <td>3.365000</td>\n",
       "      <td>12.500000</td>\n",
       "      <td>29.750000</td>\n",
       "      <td>175.500000</td>\n",
       "      <td>3.00</td>\n",
       "      <td>167.000000</td>\n",
       "      <td>68.500000</td>\n",
       "    </tr>\n",
       "    <tr>\n",
       "      <th>2</th>\n",
       "      <td>18132.000000</td>\n",
       "      <td>2.450000</td>\n",
       "      <td>8.000000</td>\n",
       "      <td>13.000000</td>\n",
       "      <td>196.000000</td>\n",
       "      <td>1.00</td>\n",
       "      <td>143.000000</td>\n",
       "      <td>70.000000</td>\n",
       "    </tr>\n",
       "    <tr>\n",
       "      <th>3</th>\n",
       "      <td>11683.875000</td>\n",
       "      <td>1.875000</td>\n",
       "      <td>11.500000</td>\n",
       "      <td>30.500000</td>\n",
       "      <td>135.000000</td>\n",
       "      <td>1.25</td>\n",
       "      <td>180.125000</td>\n",
       "      <td>77.375000</td>\n",
       "    </tr>\n",
       "  </tbody>\n",
       "</table>\n",
       "</div>"
      ],
      "text/plain": [
       "   carry_progressive_distance  gca_per90  sca_fouled      saves  shots_total  \\\n",
       "0                 8590.571429   1.661429   10.428571  30.571429   124.857143   \n",
       "1                14134.500000   3.365000   12.500000  29.750000   175.500000   \n",
       "2                18132.000000   2.450000    8.000000  13.000000   196.000000   \n",
       "3                11683.875000   1.875000   11.500000  30.500000   135.000000   \n",
       "\n",
       "   gca_dribbles  aerials_won  tackles_mid_3rd  \n",
       "0          1.00   214.285714        70.571429  \n",
       "1          3.00   167.000000        68.500000  \n",
       "2          1.00   143.000000        70.000000  \n",
       "3          1.25   180.125000        77.375000  "
      ]
     },
     "execution_count": 14,
     "metadata": {},
     "output_type": "execute_result"
    }
   ],
   "source": [
    "cluster"
   ]
  },
  {
   "cell_type": "code",
   "execution_count": 15,
   "metadata": {},
   "outputs": [],
   "source": [
    "import seaborn as sns\n"
   ]
  },
  {
   "cell_type": "code",
   "execution_count": 82,
   "metadata": {},
   "outputs": [],
   "source": [
    "a=100\n",
    "cluster['carry_progressive_distance']=cluster['carry_progressive_distance'].apply(lambda x: x/1000)"
   ]
  },
  {
   "cell_type": "code",
   "execution_count": 16,
   "metadata": {},
   "outputs": [
    {
     "data": {
      "text/plain": [
       "<matplotlib.axes._subplots.AxesSubplot at 0x1499d490188>"
      ]
     },
     "execution_count": 16,
     "metadata": {},
     "output_type": "execute_result"
    },
    {
     "data": {
      "image/png": "[encoded data removed]",
      "text/plain": [
       "<Figure size 1440x720 with 1 Axes>"
      ]
     },
     "metadata": {
      "needs_background": "light"
     },
     "output_type": "display_data"
    }
   ],
   "source": [
    "cluster.plot.bar(figsize=(20, 10), logy=True)"
   ]
  },
  {
   "cell_type": "code",
   "execution_count": 17,
   "metadata": {},
   "outputs": [],
   "source": [
    "result=pd.concat([labels,team,df], axis=1)"
   ]
  },
  {
   "cell_type": "code",
   "execution_count": 18,
   "metadata": {},
   "outputs": [
    {
     "data": {
      "text/plain": [
       "0"
      ]
     },
     "execution_count": 18,
     "metadata": {},
     "output_type": "execute_result"
    }
   ],
   "source": [
    "result.iloc[1,0]"
   ]
  },
  {
   "cell_type": "code",
   "execution_count": 19,
   "metadata": {},
   "outputs": [
    {
     "name": "stdout",
     "output_type": "stream",
     "text": [
      "{3: ['Arsenal', 'Brighton', 'Crystal Palace', 'Leicester City', 'Southampton', 'Tottenham', 'West Ham', 'Wolves'], 0: ['Aston Villa', 'Brentford', 'Burnley', 'Everton', 'Newcastle Utd', 'Norwich City', 'Watford'], 1: ['Chelsea', 'Leeds United', 'Liverpool', 'Manchester Utd'], 2: 'Manchester City'}\n"
     ]
    }
   ],
   "source": [
    "group=dict()\n",
    "for i in range(result.shape[0]):\n",
    "    cluster=result.iloc[i,0]\n",
    "    club=result.iloc[i,1] \n",
    "    if  cluster in group:\n",
    "        if not isinstance(group[cluster], list):\n",
    "            group[cluster]=[group[cluster]]\n",
    "        group[cluster].append(club)    \n",
    "        \n",
    "    else:\n",
    "        group[cluster]= club\n",
    "        \n",
    "print(group)    "
   ]
  },
  {
   "cell_type": "code",
   "execution_count": 122,
   "metadata": {},
   "outputs": [
    {
     "data": {
      "text/plain": [
       "list"
      ]
     },
     "execution_count": 122,
     "metadata": {},
     "output_type": "execute_result"
    }
   ],
   "source": [
    " type(group[cluster])"
   ]
  },
  {
   "cell_type": "code",
   "execution_count": null,
   "metadata": {},
   "outputs": [],
   "source": []
  }
 ],
 "metadata": {
  "kernelspec": {
   "display_name": "Python 3",
   "language": "python",
   "name": "python3"
  },
  "language_info": {
   "codemirror_mode": {
    "name": "ipython",
    "version": 3
   },
   "file_extension": ".py",
   "mimetype": "text/x-python",
   "name": "python",
   "nbconvert_exporter": "python",
   "pygments_lexer": "ipython3",
   "version": "3.7.6"
  }
 },
 "nbformat": 4,
 "nbformat_minor": 4
}
